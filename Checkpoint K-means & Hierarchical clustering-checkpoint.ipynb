{
 "cells": [
  {
   "cell_type": "code",
   "execution_count": 1,
   "metadata": {},
   "outputs": [
    {
     "data": {
      "text/html": [
       "<div>\n",
       "<style scoped>\n",
       "    .dataframe tbody tr th:only-of-type {\n",
       "        vertical-align: middle;\n",
       "    }\n",
       "\n",
       "    .dataframe tbody tr th {\n",
       "        vertical-align: top;\n",
       "    }\n",
       "\n",
       "    .dataframe thead th {\n",
       "        text-align: right;\n",
       "    }\n",
       "</style>\n",
       "<table border=\"1\" class=\"dataframe\">\n",
       "  <thead>\n",
       "    <tr style=\"text-align: right;\">\n",
       "      <th></th>\n",
       "      <th>CUST_ID</th>\n",
       "      <th>BALANCE</th>\n",
       "      <th>BALANCE_FREQUENCY</th>\n",
       "      <th>PURCHASES</th>\n",
       "      <th>ONEOFF_PURCHASES</th>\n",
       "      <th>INSTALLMENTS_PURCHASES</th>\n",
       "      <th>CASH_ADVANCE</th>\n",
       "      <th>PURCHASES_FREQUENCY</th>\n",
       "      <th>ONEOFF_PURCHASES_FREQUENCY</th>\n",
       "      <th>PURCHASES_INSTALLMENTS_FREQUENCY</th>\n",
       "      <th>CASH_ADVANCE_FREQUENCY</th>\n",
       "      <th>CASH_ADVANCE_TRX</th>\n",
       "      <th>PURCHASES_TRX</th>\n",
       "      <th>CREDIT_LIMIT</th>\n",
       "      <th>PAYMENTS</th>\n",
       "      <th>MINIMUM_PAYMENTS</th>\n",
       "      <th>PRC_FULL_PAYMENT</th>\n",
       "      <th>TENURE</th>\n",
       "    </tr>\n",
       "  </thead>\n",
       "  <tbody>\n",
       "    <tr>\n",
       "      <th>0</th>\n",
       "      <td>C10001</td>\n",
       "      <td>40.900749</td>\n",
       "      <td>0.818182</td>\n",
       "      <td>95.40</td>\n",
       "      <td>0.00</td>\n",
       "      <td>95.4</td>\n",
       "      <td>0.000000</td>\n",
       "      <td>0.166667</td>\n",
       "      <td>0.000000</td>\n",
       "      <td>0.083333</td>\n",
       "      <td>0.000000</td>\n",
       "      <td>0</td>\n",
       "      <td>2</td>\n",
       "      <td>1000.0</td>\n",
       "      <td>201.802084</td>\n",
       "      <td>139.509787</td>\n",
       "      <td>0.000000</td>\n",
       "      <td>12</td>\n",
       "    </tr>\n",
       "    <tr>\n",
       "      <th>1</th>\n",
       "      <td>C10002</td>\n",
       "      <td>3202.467416</td>\n",
       "      <td>0.909091</td>\n",
       "      <td>0.00</td>\n",
       "      <td>0.00</td>\n",
       "      <td>0.0</td>\n",
       "      <td>6442.945483</td>\n",
       "      <td>0.000000</td>\n",
       "      <td>0.000000</td>\n",
       "      <td>0.000000</td>\n",
       "      <td>0.250000</td>\n",
       "      <td>4</td>\n",
       "      <td>0</td>\n",
       "      <td>7000.0</td>\n",
       "      <td>4103.032597</td>\n",
       "      <td>1072.340217</td>\n",
       "      <td>0.222222</td>\n",
       "      <td>12</td>\n",
       "    </tr>\n",
       "    <tr>\n",
       "      <th>2</th>\n",
       "      <td>C10003</td>\n",
       "      <td>2495.148862</td>\n",
       "      <td>1.000000</td>\n",
       "      <td>773.17</td>\n",
       "      <td>773.17</td>\n",
       "      <td>0.0</td>\n",
       "      <td>0.000000</td>\n",
       "      <td>1.000000</td>\n",
       "      <td>1.000000</td>\n",
       "      <td>0.000000</td>\n",
       "      <td>0.000000</td>\n",
       "      <td>0</td>\n",
       "      <td>12</td>\n",
       "      <td>7500.0</td>\n",
       "      <td>622.066742</td>\n",
       "      <td>627.284787</td>\n",
       "      <td>0.000000</td>\n",
       "      <td>12</td>\n",
       "    </tr>\n",
       "    <tr>\n",
       "      <th>3</th>\n",
       "      <td>C10004</td>\n",
       "      <td>1666.670542</td>\n",
       "      <td>0.636364</td>\n",
       "      <td>1499.00</td>\n",
       "      <td>1499.00</td>\n",
       "      <td>0.0</td>\n",
       "      <td>205.788017</td>\n",
       "      <td>0.083333</td>\n",
       "      <td>0.083333</td>\n",
       "      <td>0.000000</td>\n",
       "      <td>0.083333</td>\n",
       "      <td>1</td>\n",
       "      <td>1</td>\n",
       "      <td>7500.0</td>\n",
       "      <td>0.000000</td>\n",
       "      <td>NaN</td>\n",
       "      <td>0.000000</td>\n",
       "      <td>12</td>\n",
       "    </tr>\n",
       "    <tr>\n",
       "      <th>4</th>\n",
       "      <td>C10005</td>\n",
       "      <td>817.714335</td>\n",
       "      <td>1.000000</td>\n",
       "      <td>16.00</td>\n",
       "      <td>16.00</td>\n",
       "      <td>0.0</td>\n",
       "      <td>0.000000</td>\n",
       "      <td>0.083333</td>\n",
       "      <td>0.083333</td>\n",
       "      <td>0.000000</td>\n",
       "      <td>0.000000</td>\n",
       "      <td>0</td>\n",
       "      <td>1</td>\n",
       "      <td>1200.0</td>\n",
       "      <td>678.334763</td>\n",
       "      <td>244.791237</td>\n",
       "      <td>0.000000</td>\n",
       "      <td>12</td>\n",
       "    </tr>\n",
       "  </tbody>\n",
       "</table>\n",
       "</div>"
      ],
      "text/plain": [
       "  CUST_ID      BALANCE  BALANCE_FREQUENCY  PURCHASES  ONEOFF_PURCHASES  \\\n",
       "0  C10001    40.900749           0.818182      95.40              0.00   \n",
       "1  C10002  3202.467416           0.909091       0.00              0.00   \n",
       "2  C10003  2495.148862           1.000000     773.17            773.17   \n",
       "3  C10004  1666.670542           0.636364    1499.00           1499.00   \n",
       "4  C10005   817.714335           1.000000      16.00             16.00   \n",
       "\n",
       "   INSTALLMENTS_PURCHASES  CASH_ADVANCE  PURCHASES_FREQUENCY  \\\n",
       "0                    95.4      0.000000             0.166667   \n",
       "1                     0.0   6442.945483             0.000000   \n",
       "2                     0.0      0.000000             1.000000   \n",
       "3                     0.0    205.788017             0.083333   \n",
       "4                     0.0      0.000000             0.083333   \n",
       "\n",
       "   ONEOFF_PURCHASES_FREQUENCY  PURCHASES_INSTALLMENTS_FREQUENCY  \\\n",
       "0                    0.000000                          0.083333   \n",
       "1                    0.000000                          0.000000   \n",
       "2                    1.000000                          0.000000   \n",
       "3                    0.083333                          0.000000   \n",
       "4                    0.083333                          0.000000   \n",
       "\n",
       "   CASH_ADVANCE_FREQUENCY  CASH_ADVANCE_TRX  PURCHASES_TRX  CREDIT_LIMIT  \\\n",
       "0                0.000000                 0              2        1000.0   \n",
       "1                0.250000                 4              0        7000.0   \n",
       "2                0.000000                 0             12        7500.0   \n",
       "3                0.083333                 1              1        7500.0   \n",
       "4                0.000000                 0              1        1200.0   \n",
       "\n",
       "      PAYMENTS  MINIMUM_PAYMENTS  PRC_FULL_PAYMENT  TENURE  \n",
       "0   201.802084        139.509787          0.000000      12  \n",
       "1  4103.032597       1072.340217          0.222222      12  \n",
       "2   622.066742        627.284787          0.000000      12  \n",
       "3     0.000000               NaN          0.000000      12  \n",
       "4   678.334763        244.791237          0.000000      12  "
      ]
     },
     "execution_count": 1,
     "metadata": {},
     "output_type": "execute_result"
    }
   ],
   "source": [
    "# Import the dataset \n",
    "\n",
    "import pandas as pd\n",
    "\n",
    "dataset= pd.read_csv('CC GENERAL.csv',delimiter=\",\")\n",
    "dataset.head()"
   ]
  },
  {
   "cell_type": "code",
   "execution_count": 2,
   "metadata": {},
   "outputs": [
    {
     "data": {
      "text/plain": [
       "CUST_ID                               0\n",
       "BALANCE                               0\n",
       "BALANCE_FREQUENCY                     0\n",
       "PURCHASES                             0\n",
       "ONEOFF_PURCHASES                      0\n",
       "INSTALLMENTS_PURCHASES                0\n",
       "CASH_ADVANCE                          0\n",
       "PURCHASES_FREQUENCY                   0\n",
       "ONEOFF_PURCHASES_FREQUENCY            0\n",
       "PURCHASES_INSTALLMENTS_FREQUENCY      0\n",
       "CASH_ADVANCE_FREQUENCY                0\n",
       "CASH_ADVANCE_TRX                      0\n",
       "PURCHASES_TRX                         0\n",
       "CREDIT_LIMIT                          1\n",
       "PAYMENTS                              0\n",
       "MINIMUM_PAYMENTS                    313\n",
       "PRC_FULL_PAYMENT                      0\n",
       "TENURE                                0\n",
       "dtype: int64"
      ]
     },
     "execution_count": 2,
     "metadata": {},
     "output_type": "execute_result"
    }
   ],
   "source": [
    "#What are the missing data? \n",
    "\n",
    "dataset.isnull().sum()"
   ]
  },
  {
   "cell_type": "code",
   "execution_count": 3,
   "metadata": {},
   "outputs": [
    {
     "data": {
      "text/plain": [
       "CUST_ID                               0\n",
       "BALANCE                               0\n",
       "BALANCE_FREQUENCY                     0\n",
       "PURCHASES                             0\n",
       "ONEOFF_PURCHASES                      0\n",
       "INSTALLMENTS_PURCHASES                0\n",
       "CASH_ADVANCE                          0\n",
       "PURCHASES_FREQUENCY                   0\n",
       "ONEOFF_PURCHASES_FREQUENCY            0\n",
       "PURCHASES_INSTALLMENTS_FREQUENCY      0\n",
       "CASH_ADVANCE_FREQUENCY                0\n",
       "CASH_ADVANCE_TRX                      0\n",
       "PURCHASES_TRX                         0\n",
       "CREDIT_LIMIT                          0\n",
       "PAYMENTS                              0\n",
       "MINIMUM_PAYMENTS                    313\n",
       "PRC_FULL_PAYMENT                      0\n",
       "TENURE                                0\n",
       "dtype: int64"
      ]
     },
     "execution_count": 3,
     "metadata": {},
     "output_type": "execute_result"
    }
   ],
   "source": [
    "#Replacing the one credit limit missing value in the dataset\n",
    "\n",
    "dataset['CREDIT_LIMIT'].fillna(dataset['CREDIT_LIMIT'].mean(), inplace=True)\n",
    "dataset.isnull().sum()"
   ]
  },
  {
   "cell_type": "code",
   "execution_count": 4,
   "metadata": {
    "scrolled": true
   },
   "outputs": [
    {
     "data": {
      "text/plain": [
       "CUST_ID                             0\n",
       "BALANCE                             0\n",
       "BALANCE_FREQUENCY                   0\n",
       "PURCHASES                           0\n",
       "ONEOFF_PURCHASES                    0\n",
       "INSTALLMENTS_PURCHASES              0\n",
       "CASH_ADVANCE                        0\n",
       "PURCHASES_FREQUENCY                 0\n",
       "ONEOFF_PURCHASES_FREQUENCY          0\n",
       "PURCHASES_INSTALLMENTS_FREQUENCY    0\n",
       "CASH_ADVANCE_FREQUENCY              0\n",
       "CASH_ADVANCE_TRX                    0\n",
       "PURCHASES_TRX                       0\n",
       "CREDIT_LIMIT                        0\n",
       "PAYMENTS                            0\n",
       "MINIMUM_PAYMENTS                    0\n",
       "PRC_FULL_PAYMENT                    0\n",
       "TENURE                              0\n",
       "dtype: int64"
      ]
     },
     "execution_count": 4,
     "metadata": {},
     "output_type": "execute_result"
    }
   ],
   "source": [
    "#Replacing the Minimum Payment missing values by the mean of all the mean of the Minimum Payment missing values in the dataset\n",
    "\n",
    "dataset['MINIMUM_PAYMENTS'].fillna(dataset['MINIMUM_PAYMENTS'].mean(), inplace=True)\n",
    "dataset.isnull().sum()"
   ]
  },
  {
   "cell_type": "code",
   "execution_count": 5,
   "metadata": {},
   "outputs": [
    {
     "data": {
      "text/html": [
       "<div>\n",
       "<style scoped>\n",
       "    .dataframe tbody tr th:only-of-type {\n",
       "        vertical-align: middle;\n",
       "    }\n",
       "\n",
       "    .dataframe tbody tr th {\n",
       "        vertical-align: top;\n",
       "    }\n",
       "\n",
       "    .dataframe thead th {\n",
       "        text-align: right;\n",
       "    }\n",
       "</style>\n",
       "<table border=\"1\" class=\"dataframe\">\n",
       "  <thead>\n",
       "    <tr style=\"text-align: right;\">\n",
       "      <th></th>\n",
       "      <th>0</th>\n",
       "    </tr>\n",
       "  </thead>\n",
       "  <tbody>\n",
       "    <tr>\n",
       "      <th>0</th>\n",
       "      <td>0</td>\n",
       "    </tr>\n",
       "    <tr>\n",
       "      <th>1</th>\n",
       "      <td>0</td>\n",
       "    </tr>\n",
       "    <tr>\n",
       "      <th>2</th>\n",
       "      <td>0</td>\n",
       "    </tr>\n",
       "    <tr>\n",
       "      <th>3</th>\n",
       "      <td>0</td>\n",
       "    </tr>\n",
       "    <tr>\n",
       "      <th>4</th>\n",
       "      <td>0</td>\n",
       "    </tr>\n",
       "    <tr>\n",
       "      <th>...</th>\n",
       "      <td>...</td>\n",
       "    </tr>\n",
       "    <tr>\n",
       "      <th>8945</th>\n",
       "      <td>0</td>\n",
       "    </tr>\n",
       "    <tr>\n",
       "      <th>8946</th>\n",
       "      <td>0</td>\n",
       "    </tr>\n",
       "    <tr>\n",
       "      <th>8947</th>\n",
       "      <td>0</td>\n",
       "    </tr>\n",
       "    <tr>\n",
       "      <th>8948</th>\n",
       "      <td>0</td>\n",
       "    </tr>\n",
       "    <tr>\n",
       "      <th>8949</th>\n",
       "      <td>0</td>\n",
       "    </tr>\n",
       "  </tbody>\n",
       "</table>\n",
       "<p>8950 rows × 1 columns</p>\n",
       "</div>"
      ],
      "text/plain": [
       "      0\n",
       "0     0\n",
       "1     0\n",
       "2     0\n",
       "3     0\n",
       "4     0\n",
       "...  ..\n",
       "8945  0\n",
       "8946  0\n",
       "8947  0\n",
       "8948  0\n",
       "8949  0\n",
       "\n",
       "[8950 rows x 1 columns]"
      ]
     },
     "execution_count": 5,
     "metadata": {},
     "output_type": "execute_result"
    }
   ],
   "source": [
    "# Hierarchical clustering\n",
    "\n",
    "from sklearn.cluster import AgglomerativeClustering\n",
    "data = dataset.drop(columns = ['CUST_ID'])\n",
    "\n",
    "model=AgglomerativeClustering(n_clusters=5, affinity='euclidean', linkage='complete')\n",
    "clust_labels=model.fit_predict(data) \n",
    "\n",
    "agglomerative=pd.DataFrame(clust_labels)\n",
    "agglomerative"
   ]
  },
  {
   "cell_type": "code",
   "execution_count": 6,
   "metadata": {},
   "outputs": [
    {
     "data": {
      "text/plain": [
       "<matplotlib.colorbar.Colorbar at 0x14b80e5b1f0>"
      ]
     },
     "execution_count": 6,
     "metadata": {},
     "output_type": "execute_result"
    },
    {
     "data": {
      "image/png": "[encoded data removed]",
      "text/plain": [
       "<Figure size 432x288 with 2 Axes>"
      ]
     },
     "metadata": {
      "needs_background": "light"
     },
     "output_type": "display_data"
    }
   ],
   "source": [
    "# Plot clusters \n",
    "\n",
    "import matplotlib.pyplot as plt\n",
    "fig =plt.figure()\n",
    "ax = fig.add_subplot(111)\n",
    "scatter = ax.scatter (data ['ONEOFF_PURCHASES'] , data [\"PAYMENTS\"] , c= agglomerative[0\n",
    "], s=50)\n",
    "ax.set_title(\"Agglomerative Clustering\")\n",
    "ax.set_xlabel(\"BALANCE\")\n",
    "ax.set_ylabel(\"Spending Score (1-100)\")\n",
    "plt.colorbar(scatter)"
   ]
  },
  {
   "cell_type": "code",
   "execution_count": 7,
   "metadata": {},
   "outputs": [
    {
     "data": {
      "image/png": "[encoded data removed]",
      "text/plain": [
       "<Figure size 720x504 with 1 Axes>"
      ]
     },
     "metadata": {
      "needs_background": "light"
     },
     "output_type": "display_data"
    }
   ],
   "source": [
    "# Plot the dendrogram \n",
    "\n",
    "import matplotlib.pyplot as plt\n",
    "import scipy.cluster.hierarchy as shc\n",
    "plt.figure(figsize=(10,7))\n",
    "plt.title(\"Customer Dendrograms\")\n",
    "dend=shc.dendrogram(shc.linkage(data, method=\"complete\"))"
   ]
  },
  {
   "cell_type": "code",
   "execution_count": 8,
   "metadata": {},
   "outputs": [
    {
     "data": {
      "text/html": [
       "<div>\n",
       "<style scoped>\n",
       "    .dataframe tbody tr th:only-of-type {\n",
       "        vertical-align: middle;\n",
       "    }\n",
       "\n",
       "    .dataframe tbody tr th {\n",
       "        vertical-align: top;\n",
       "    }\n",
       "\n",
       "    .dataframe thead th {\n",
       "        text-align: right;\n",
       "    }\n",
       "</style>\n",
       "<table border=\"1\" class=\"dataframe\">\n",
       "  <thead>\n",
       "    <tr style=\"text-align: right;\">\n",
       "      <th></th>\n",
       "      <th>0</th>\n",
       "    </tr>\n",
       "  </thead>\n",
       "  <tbody>\n",
       "    <tr>\n",
       "      <th>0</th>\n",
       "      <td>0</td>\n",
       "    </tr>\n",
       "    <tr>\n",
       "      <th>1</th>\n",
       "      <td>4</td>\n",
       "    </tr>\n",
       "    <tr>\n",
       "      <th>2</th>\n",
       "      <td>4</td>\n",
       "    </tr>\n",
       "    <tr>\n",
       "      <th>3</th>\n",
       "      <td>4</td>\n",
       "    </tr>\n",
       "    <tr>\n",
       "      <th>4</th>\n",
       "      <td>0</td>\n",
       "    </tr>\n",
       "    <tr>\n",
       "      <th>...</th>\n",
       "      <td>...</td>\n",
       "    </tr>\n",
       "    <tr>\n",
       "      <th>8945</th>\n",
       "      <td>0</td>\n",
       "    </tr>\n",
       "    <tr>\n",
       "      <th>8946</th>\n",
       "      <td>0</td>\n",
       "    </tr>\n",
       "    <tr>\n",
       "      <th>8947</th>\n",
       "      <td>0</td>\n",
       "    </tr>\n",
       "    <tr>\n",
       "      <th>8948</th>\n",
       "      <td>0</td>\n",
       "    </tr>\n",
       "    <tr>\n",
       "      <th>8949</th>\n",
       "      <td>0</td>\n",
       "    </tr>\n",
       "  </tbody>\n",
       "</table>\n",
       "<p>8950 rows × 1 columns</p>\n",
       "</div>"
      ],
      "text/plain": [
       "      0\n",
       "0     0\n",
       "1     4\n",
       "2     4\n",
       "3     4\n",
       "4     0\n",
       "...  ..\n",
       "8945  0\n",
       "8946  0\n",
       "8947  0\n",
       "8948  0\n",
       "8949  0\n",
       "\n",
       "[8950 rows x 1 columns]"
      ]
     },
     "execution_count": 8,
     "metadata": {},
     "output_type": "execute_result"
    }
   ],
   "source": [
    "# Use k-means clustering\n",
    "\n",
    "from sklearn.cluster import KMeans  #Importing our clustering algorithm: KMeans\n",
    "kmeans=KMeans(n_clusters=5, random_state=0)  #Cluster our data by choosing 5 as number of clusters\n",
    "kmeans.fit(data)\n",
    "\n",
    "labels=pd.DataFrame(kmeans.labels_)\n",
    "labels"
   ]
  },
  {
   "cell_type": "code",
   "execution_count": 9,
   "metadata": {},
   "outputs": [
    {
     "name": "stdout",
     "output_type": "stream",
     "text": [
      "[[ 3.19576253e+02  7.63826719e-01  5.94960626e+02  2.59001154e+02\n",
      "   3.36367107e+02  9.55612223e+01  5.57035466e-01  1.46594160e-01\n",
      "   4.41585796e-01  2.79939298e-02  4.79833102e-01  1.14116829e+01\n",
      "   3.45175823e+03  6.96138318e+02  2.44077487e+02  2.41000067e-01\n",
      "   1.17093185e+01]\n",
      " [ 7.36048136e+02  8.12060778e-01  1.90023615e+03  1.22114957e+03\n",
      "   6.79086581e+02  3.68055662e+02  6.91530675e-01  4.48704991e-01\n",
      "   4.40831402e-01  4.79150256e-02  9.14529915e-01  2.39401709e+01\n",
      "   1.62820513e+04  2.46791792e+03  3.18803610e+02  4.65626667e-01\n",
      "   1.17948718e+01]\n",
      " [ 4.92042881e+03  9.46889947e-01  2.95522484e+04  2.43981768e+04\n",
      "   5.15407158e+03  1.17434425e+03  8.85087684e-01  8.31579000e-01\n",
      "   6.47368368e-01  4.82455789e-02  2.15789474e+00  1.18894737e+02\n",
      "   1.60263158e+04  2.97880715e+04  2.87662054e+03  5.49242421e-01\n",
      "   1.18947368e+01]\n",
      " [ 1.99171968e+03  9.38218890e-01  3.10245089e+02  1.81301555e+02\n",
      "   1.28998209e+02  1.74891136e+03  2.57204727e-01  1.09104339e-01\n",
      "   1.68237564e-01  2.84124719e-01  6.73622047e+00  5.94192913e+00\n",
      "   3.10280512e+03  1.36163575e+03  8.40567759e+02  2.94199537e-02\n",
      "   1.13228346e+01]\n",
      " [ 7.21024655e+03  1.00000000e+00  1.59214833e+03  0.00000000e+00\n",
      "   1.59214833e+03  1.17663727e+03  5.00000000e-01 -2.77555756e-17\n",
      "   5.00000000e-01  6.94445000e-02  2.66666667e+00  3.78333333e+01\n",
      "   7.25000000e+03  2.49334353e+03  5.49718177e+04  0.00000000e+00\n",
      "   1.20000000e+01]\n",
      " [ 4.56208001e+03  9.91520339e-01  6.16428699e+02  3.66194148e+02\n",
      "   2.50234552e+02  2.12273537e+03  3.64435638e-01  1.70572571e-01\n",
      "   2.53378504e-01  3.24398134e-01  7.75219684e+00  1.11441125e+01\n",
      "   6.52934974e+03  1.48816817e+03  1.62386397e+03  9.90572935e-04\n",
      "   1.16783831e+01]\n",
      " [ 5.88174696e+03  9.53868855e-01  4.39812489e+02  2.75671810e+02\n",
      "   1.64140679e+02  6.17987065e+03  2.80594706e-01  1.32186068e-01\n",
      "   1.82074652e-01  4.57474733e-01  1.41855204e+01  6.71040724e+00\n",
      "   9.56923077e+03  1.99422622e+03  1.90751935e+03  3.38337557e-03\n",
      "   1.12081448e+01]\n",
      " [ 6.78516219e+02  8.54472024e-01  8.40384569e+02  4.49429239e+02\n",
      "   3.91274423e+02  2.20668749e+02  5.81231122e-01  2.87427325e-01\n",
      "   3.86223273e-01  4.56784479e-02  9.14893617e-01  1.46931691e+01\n",
      "   6.74227833e+03  1.08467453e+03  2.96509854e+02  2.32913062e-01\n",
      "   1.18062710e+01]\n",
      " [ 1.09576306e+03  9.47267337e-01  3.48496269e+03  2.19311587e+03\n",
      "   1.29311801e+03  1.81228381e+02  8.80033403e-01  5.92352547e-01\n",
      "   6.74539917e-01  3.97714936e-02  8.34745763e-01  4.55466102e+01\n",
      "   4.60564651e+03  3.28856146e+03  5.65009632e+02  3.07976004e-01\n",
      "   1.18580508e+01]\n",
      " [ 2.29831387e+03  8.72790951e-01  7.54884831e+02  4.21368427e+02\n",
      "   3.33646442e+02  3.50687242e+03  3.56255131e-01  1.74303199e-01\n",
      "   2.57089348e-01  3.23385670e-01  9.56179775e+00  1.31348315e+01\n",
      "   5.63397458e+03  6.39375878e+03  1.05065545e+03  1.40671506e-01\n",
      "   1.17677903e+01]\n",
      " [ 5.17627621e+03  9.71295480e-01  6.95296400e+02  4.43960600e+02\n",
      "   2.51335800e+02  9.49569565e+03  2.69747810e-01  1.26795430e-01\n",
      "   1.88190470e-01  5.48540050e-01  1.96600000e+01  8.57000000e+00\n",
      "   9.56950000e+03  9.55248561e+03  1.79470701e+03  6.71568400e-02\n",
      "   1.17200000e+01]\n",
      " [ 4.14633711e+03  9.75206636e-01  8.22346364e+02  1.22924091e+02\n",
      "   6.99422273e+02  1.07482193e+03  5.25482045e-01  6.19833636e-02\n",
      "   4.86570273e-01  7.40357273e-02  2.59090909e+00  1.98636364e+01\n",
      "   4.57045455e+03  1.39822582e+03  2.47730394e+04  0.00000000e+00\n",
      "   1.18636364e+01]\n",
      " [ 3.07658146e+03  5.89866815e-01  1.52372852e+03  9.37415185e+02\n",
      "   5.87128148e+02  4.93807075e+03  3.85521852e-01  2.25028000e-01\n",
      "   2.64309815e-01  2.39177481e-01  9.07407407e+00  1.61481481e+01\n",
      "   1.12000000e+04  2.13825666e+04  1.29870576e+03  2.90347889e-01\n",
      "   1.15555556e+01]\n",
      " [ 1.65024878e+03  9.04992324e-01  1.48174444e+03  9.38843819e+02\n",
      "   5.43014051e+02  3.92095275e+02  6.35355701e-01  3.99988213e-01\n",
      "   4.24902472e-01  6.40536227e-02  1.17129630e+00  2.07569444e+01\n",
      "   1.03667824e+04  1.80417359e+03  5.15614222e+02  2.00446586e-01\n",
      "   1.17592593e+01]\n",
      " [ 7.25722935e+03  9.80861263e-01  2.63888947e+03  1.55166579e+03\n",
      "   1.08722368e+03  2.17541518e+04  4.91228105e-01  3.23934895e-01\n",
      "   4.22305789e-01  6.61881895e-01  3.33157895e+01  3.67368421e+01\n",
      "   1.31368421e+04  2.28216672e+04  3.36843454e+03  1.57697263e-01\n",
      "   1.16842105e+01]\n",
      " [ 2.49648749e+03  9.86661500e-01  7.14589487e+02  1.12339744e+02\n",
      "   6.02249744e+02  6.64356194e+02  4.57024462e-01  3.24073718e-02\n",
      "   4.31027333e-01  1.10852064e-01  3.08974359e+00  1.37564103e+01\n",
      "   2.58974359e+03  1.09241247e+03  1.05435622e+04  5.43898718e-03\n",
      "   1.17948718e+01]\n",
      " [ 9.29231462e+03  9.99420962e-01  1.95593484e+03  1.11954637e+03\n",
      "   8.36814904e+02  2.21626374e+03  5.67622089e-01  3.10258618e-01\n",
      "   4.63983809e-01  2.59409357e-01  6.12101911e+00  3.03694268e+01\n",
      "   1.38614650e+04  2.89304296e+03  3.02513957e+03  0.00000000e+00\n",
      "   1.18726115e+01]\n",
      " [ 7.22797480e+03  9.76431000e-01  1.31669259e+04  5.88205963e+03\n",
      "   7.28486630e+03  1.04330569e+03  9.01234556e-01  6.29349074e-01\n",
      "   8.45398481e-01  8.33333704e-02  2.51851852e+00  1.21222222e+02\n",
      "   1.54296296e+04  1.36509220e+04  4.44304457e+03  2.23785370e-01\n",
      "   1.19629630e+01]\n",
      " [ 6.41022524e+02  8.59304564e-01  3.97292184e+02  1.79055549e+02\n",
      "   2.18576257e+02  2.70387920e+02  4.45417898e-01  1.10154988e-01\n",
      "   3.46072475e-01  9.50630609e-02  1.75369797e+00  8.21775026e+00\n",
      "   1.38403967e+03  6.62920665e+02  4.49381087e+02  1.29298101e-01\n",
      "   1.11988304e+01]\n",
      " [ 2.50707529e+03  9.84383730e-01  7.83688049e+03  5.82582890e+03\n",
      "   2.01105160e+03  4.81062008e+02  9.20152466e-01  7.69659791e-01\n",
      "   6.68758141e-01  6.70198528e-02  1.80368098e+00  8.32576687e+01\n",
      "   8.71809816e+03  6.93615653e+03  1.10664009e+03  3.41573252e-01\n",
      "   1.19447853e+01]]\n"
     ]
    }
   ],
   "source": [
    "# Change the value of K\n",
    "\n",
    "kmeans=KMeans(n_clusters=20, random_state=0)  \n",
    "kmeans.fit(data)\n",
    "kmeans.predict(data)\n",
    "print(kmeans.cluster_centers_) "
   ]
  },
  {
   "cell_type": "code",
   "execution_count": 10,
   "metadata": {},
   "outputs": [
    {
     "data": {
      "text/plain": [
       "KMeans(n_clusters=100, random_state=0)"
      ]
     },
     "execution_count": 10,
     "metadata": {},
     "output_type": "execute_result"
    }
   ],
   "source": [
    "# Change the value of K, again\n",
    "\n",
    "kmeans=KMeans(n_clusters=100, random_state=0)  \n",
    "kmeans.fit(data)"
   ]
  },
  {
   "cell_type": "code",
   "execution_count": 11,
   "metadata": {},
   "outputs": [
    {
     "data": {
      "text/plain": [
       "[<matplotlib.lines.Line2D at 0x14b898c5e80>]"
      ]
     },
     "execution_count": 11,
     "metadata": {},
     "output_type": "execute_result"
    },
    {
     "data": {
      "image/png": "[encoded data removed]",
      "text/plain": [
       "<Figure size 432x288 with 1 Axes>"
      ]
     },
     "metadata": {
      "needs_background": "light"
     },
     "output_type": "display_data"
    }
   ],
   "source": [
    "# Select the best k value: elbow method\n",
    "\n",
    "from sklearn.cluster import KMeans\n",
    "sum_squared_distances = []\n",
    "k=range(1,15)\n",
    "for i in k:\n",
    "    km=KMeans(n_clusters=i)\n",
    "    km=km.fit(data)\n",
    "    sum_squared_distances.append(km.inertia_)\n",
    "plt.plot(k ,sum_squared_distances, 'bx-' )\n"
   ]
  },
  {
   "cell_type": "code",
   "execution_count": 12,
   "metadata": {},
   "outputs": [],
   "source": [
    "# The best k value determined by using the elbow method = 3"
   ]
  },
  {
   "cell_type": "code",
   "execution_count": 16,
   "metadata": {},
   "outputs": [
    {
     "data": {
      "image/png": "[encoded data removed]",
      "text/plain": [
       "<Figure size 432x288 with 1 Axes>"
      ]
     },
     "metadata": {
      "needs_background": "light"
     },
     "output_type": "display_data"
    }
   ],
   "source": [
    "# Plot the K means cluster\n",
    "\n",
    "import matplotlib.pyplot as plt\n",
    "\n",
    "from sklearn.cluster import KMeans #Importing our clustering algorithm: KMeans\n",
    "kmeans=KMeans(n_clusters=3, random_state=0) #Cluster our data by choosing 5 as number of clusters\n",
    "kmeans.fit(data)\n",
    "labels=pd.DataFrame(kmeans.labels_)\n",
    "labels\n",
    "labels['label']=pd.DataFrame(kmeans.labels_)\n",
    "\n",
    "\n",
    "plt.scatter(data[\"BALANCE\"][labels['label'] == 0],\n",
    "data[\"PAYMENTS\"][labels['label'] == 0],s=80,c='magenta',label='Careful')\n",
    "plt.scatter(data[\"BALANCE\"][labels['label'] == 1],\n",
    "data[\"PAYMENTS\"][labels['label'] == 1],s=80,c='yellow',label='Standard')\n",
    "plt.scatter(data[\"BALANCE\"][labels['label'] == 2],\n",
    "data[\"PAYMENTS\"][labels['label'] == 2],s=80,c='green',label='Target')\n",
    "plt.scatter(data[\"BALANCE\"][labels['label'] == 3],\n",
    "data[\"PAYMENTS\"][labels['label'] == 3],s=80,c='cyan',label='Careless')\n",
    "plt.scatter(data[\"BALANCE\"][labels['label'] == 4],\n",
    "data[\"PAYMENTS\"][labels['label'] == 4],s=80,c='burlywood',label='Sensible')\n",
    "plt.scatter(kmeans.cluster_centers_[:, 0], kmeans.cluster_centers_[:, 1], s=300, c='red'\n",
    ", label = 'Centroids')\n",
    "plt.title('K-means of Clusters of Customers')\n",
    "plt.xlabel('BALANCE')\n",
    "plt.ylabel('PAYMENTS')\n",
    "plt.legend()\n",
    "plt.show()\n"
   ]
  },
  {
   "cell_type": "code",
   "execution_count": null,
   "metadata": {},
   "outputs": [],
   "source": [
    "# Compare the two results\n",
    "\n",
    "# It seems that Agglomerative Clustering showed more clear results than the K means clusters, even with using the optimal k number of 3"
   ]
  }
 ],
 "metadata": {
  "kernelspec": {
   "display_name": "Python 3",
   "language": "python",
   "name": "python3"
  },
  "language_info": {
   "codemirror_mode": {
    "name": "ipython",
    "version": 3
   },
   "file_extension": ".py",
   "mimetype": "text/x-python",
   "name": "python",
   "nbconvert_exporter": "python",
   "pygments_lexer": "ipython3",
   "version": "3.8.5"
  }
 },
 "nbformat": 4,
 "nbformat_minor": 4
}
